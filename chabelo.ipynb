{
 "cells": [
  {
   "cell_type": "markdown",
   "metadata": {},
   "source": [
    "## Chabelo"
   ]
  },
  {
   "cell_type": "markdown",
   "metadata": {},
   "source": [
    "1. there are 3 doors. 1  is the wining door. 1 is chosen by the constetant\n",
    "2. Chabelo opens a door that is not the winning door or the one chosen by the contestant\n",
    "3. the contestant chooses wehter to switch door or not"
   ]
  },
  {
   "cell_type": "markdown",
   "metadata": {},
   "source": [
    " Create a simulation and compare the win rate if the contestant switches doors or not. Import random as rand randint(firstNumber) where firstNumer<=rand <= SecondNumer rand choice(array)"
   ]
  },
  {
   "cell_type": "code",
   "execution_count": 1,
   "metadata": {
    "collapsed": true
   },
   "outputs": [],
   "source": [
    "import random as rand"
   ]
  },
  {
   "cell_type": "code",
   "execution_count": 6,
   "metadata": {},
   "outputs": [],
   "source": [
    "array=[1,2,3]"
   ]
  },
  {
   "cell_type": "code",
   "execution_count": 13,
   "metadata": {},
   "outputs": [],
   "source": [
    "perro=rand.choice(array)"
   ]
  },
  {
   "cell_type": "code",
   "execution_count": 10,
   "metadata": {
    "collapsed": true
   },
   "outputs": [],
   "source": [
    "elegir=[1,2,3]\n",
    "chabelo=[1,2,3]\n",
    "ganador=[1,2,3]"
   ]
  },
  {
   "cell_type": "code",
   "execution_count": 36,
   "metadata": {},
   "outputs": [
    {
     "name": "stdout",
     "output_type": "stream",
     "text": [
      "33.3025\n"
     ]
    }
   ],
   "source": [
    "i=1\n",
    "gano=0\n",
    "while(i<200000):\n",
    "    chabelo=[1,2,3]\n",
    "    gana=rand.choice(ganador)\n",
    "    \n",
    "    elijo=rand.choice(elegir)\n",
    "    if elijo!=gana:\n",
    "        chabelo.remove(gana)\n",
    "        chabelo.remove(elijo)\n",
    "    else:\n",
    "        chabelo.remove(gana)\n",
    "    \n",
    "    falso=rand.choice(chabelo)\n",
    "    \n",
    "\n",
    "        \n",
    "    if elijo==gana:\n",
    "        gano=gano+1\n",
    "    i=i+1\n",
    "\n",
    "print ((gano/200000)*100)\n",
    "    \n"
   ]
  },
  {
   "cell_type": "code",
   "execution_count": 35,
   "metadata": {},
   "outputs": [
    {
     "name": "stdout",
     "output_type": "stream",
     "text": [
      "66.646\n"
     ]
    }
   ],
   "source": [
    "i=1\n",
    "gano=0\n",
    "while(i<200000):\n",
    "    chabelo=[1,2,3]\n",
    "    elegir=[1,2,3]\n",
    "    gana=rand.choice(ganador)\n",
    "    \n",
    "    elijo=rand.choice(elegir)\n",
    "    if elijo!=gana:\n",
    "        chabelo.remove(gana)\n",
    "        chabelo.remove(elijo)\n",
    "    else:\n",
    "        chabelo.remove(gana)\n",
    "    \n",
    "    falso=rand.choice(chabelo)\n",
    "    elegir.remove(falso)\n",
    "    elegir.remove(elijo)\n",
    "    elijo=rand.choice(elegir)\n",
    "\n",
    "        \n",
    "    if elijo==gana:\n",
    "        gano=gano+1\n",
    "    i=i+1\n",
    "\n",
    "print ((gano/200000)*100)"
   ]
  },
  {
   "cell_type": "code",
   "execution_count": 15,
   "metadata": {},
   "outputs": [
    {
     "data": {
      "text/plain": [
       "1"
      ]
     },
     "execution_count": 15,
     "metadata": {},
     "output_type": "execute_result"
    }
   ],
   "source": []
  },
  {
   "cell_type": "code",
   "execution_count": 16,
   "metadata": {},
   "outputs": [
    {
     "data": {
      "text/plain": [
       "1"
      ]
     },
     "execution_count": 16,
     "metadata": {},
     "output_type": "execute_result"
    }
   ],
   "source": []
  },
  {
   "cell_type": "code",
   "execution_count": null,
   "metadata": {
    "collapsed": true
   },
   "outputs": [],
   "source": []
  }
 ],
 "metadata": {
  "kernelspec": {
   "display_name": "Python 3",
   "language": "python",
   "name": "python3"
  },
  "language_info": {
   "codemirror_mode": {
    "name": "ipython",
    "version": 3
   },
   "file_extension": ".py",
   "mimetype": "text/x-python",
   "name": "python",
   "nbconvert_exporter": "python",
   "pygments_lexer": "ipython3",
   "version": "3.6.2"
  }
 },
 "nbformat": 4,
 "nbformat_minor": 2
}
